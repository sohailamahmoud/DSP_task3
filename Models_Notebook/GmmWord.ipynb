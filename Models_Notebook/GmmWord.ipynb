{
 "cells": [
  {
   "cell_type": "code",
   "execution_count": 1,
   "metadata": {},
   "outputs": [],
   "source": [
    "import librosa\n",
    "import librosa.display\n",
    "import IPython.display as ipd\n",
    "import os\n",
    "import numpy as np\n",
    "import itertools\n",
    "import pandas as pd\n",
    "import math\n",
    "from scipy.signal import get_window\n",
    "import scipy\n",
    "from sklearn import preprocessing\n",
    "from scipy.io.wavfile import read\n",
    "import python_speech_features as mfcc\n",
    "from sklearn.mixture import GaussianMixture \n",
    "import glob\n",
    "import pickle\n",
    "import joblib\n",
    "from sklearn.metrics import f1_score\n",
    "import soundfile"
   ]
  },
  {
   "cell_type": "code",
   "execution_count": 2,
   "metadata": {},
   "outputs": [],
   "source": [
    "def calculate_delta(array):\n",
    "    rows,cols = array.shape\n",
    "    deltas = np.zeros((rows,20))\n",
    "    N = 2\n",
    "    for i in range(rows):\n",
    "        index = []\n",
    "        j = 1\n",
    "        while j <= N:\n",
    "            if i-j < 0:\n",
    "                first =0\n",
    "            else:\n",
    "                first = i-j\n",
    "            if i+j > rows-1:\n",
    "                second = rows-1\n",
    "            else:\n",
    "                second = i+j \n",
    "            index.append((second,first))\n",
    "            j+=1\n",
    "        deltas[i] = ( array[index[0][0]]-array[index[0][1]] + (2 * (array[index[1][0]]-array[index[1][1]])) ) / 10\n",
    "    return deltas\n",
    "\n",
    "# Feature Extraction for both train and test data\n",
    "\n",
    "def extract_features_for_data(audio,sr):\n",
    "    mfcc_feature = mfcc.mfcc(audio,sr, 0.025, 0.01,20, nfft = 1200 ,appendEnergy=True)\n",
    "    mfcc_feature = preprocessing.scale(mfcc_feature)\n",
    "    delta = calculate_delta(mfcc_feature)\n",
    "    combined = np.hstack((mfcc_feature,delta)) \n",
    "    return combined\n",
    "\n",
    "\n"
   ]
  },
  {
   "cell_type": "code",
   "execution_count": 3,
   "metadata": {},
   "outputs": [],
   "source": [
    "###\n",
    "\n",
    "featuresOpen = np.asarray(())\n",
    "directory = './Open/'\n",
    "for audio in os.listdir('./Open/'):\n",
    "    audio_path = directory + audio\n",
    "    sr,audio = read(audio_path)\n",
    "    vector1   = extract_features_for_data(audio,sr)\n",
    "    if featuresOpen.size == 0:\n",
    "        featuresOpen = vector1\n",
    "    else:\n",
    "        featuresOpen=np.vstack((featuresOpen, vector1 ))\n",
    "\n",
    "featuresClose = np.asarray(())\n",
    "directory = './Close/'\n",
    "for audio in os.listdir('./Close/'):\n",
    "    audio_path = directory + audio\n",
    "    sr,audio = read(audio_path)\n",
    "    vector1   = extract_features_for_data(audio,sr)\n",
    "    if featuresClose.size == 0:\n",
    "        featuresClose = vector1\n",
    "    else:\n",
    "        featuresClose=np.vstack((featuresClose, vector1 ))\n",
    "\n",
    "featuresPush = np.asarray(())\n",
    "directory = './Push/'\n",
    "for audio in os.listdir('./Push/'):\n",
    "    audio_path = directory + audio\n",
    "    sr,audio = read(audio_path)\n",
    "    vector1   = extract_features_for_data(audio,sr)\n",
    "    if featuresPush.size == 0:\n",
    "        featuresPush = vector1\n",
    "    else:\n",
    "        featuresPush=np.vstack((featuresPush, vector1 ))\n",
    "\n",
    "featuresPull = np.asarray(())\n",
    "directory = './Pull/'\n",
    "for audio in os.listdir('./Pull/'):\n",
    "    audio_path = directory + audio\n",
    "    sr,audio = read(audio_path)\n",
    "    vector1   = extract_features_for_data(audio,sr)\n",
    "    if featuresPull.size == 0:\n",
    "        featuresPull = vector1\n",
    "    else:\n",
    "        featuresPull=np.vstack((featuresPull, vector1 ))\n"
   ]
  },
  {
   "cell_type": "code",
   "execution_count": 4,
   "metadata": {},
   "outputs": [
    {
     "data": {
      "text/html": [
       "<style>#sk-container-id-1 {color: black;background-color: white;}#sk-container-id-1 pre{padding: 0;}#sk-container-id-1 div.sk-toggleable {background-color: white;}#sk-container-id-1 label.sk-toggleable__label {cursor: pointer;display: block;width: 100%;margin-bottom: 0;padding: 0.3em;box-sizing: border-box;text-align: center;}#sk-container-id-1 label.sk-toggleable__label-arrow:before {content: \"▸\";float: left;margin-right: 0.25em;color: #696969;}#sk-container-id-1 label.sk-toggleable__label-arrow:hover:before {color: black;}#sk-container-id-1 div.sk-estimator:hover label.sk-toggleable__label-arrow:before {color: black;}#sk-container-id-1 div.sk-toggleable__content {max-height: 0;max-width: 0;overflow: hidden;text-align: left;background-color: #f0f8ff;}#sk-container-id-1 div.sk-toggleable__content pre {margin: 0.2em;color: black;border-radius: 0.25em;background-color: #f0f8ff;}#sk-container-id-1 input.sk-toggleable__control:checked~div.sk-toggleable__content {max-height: 200px;max-width: 100%;overflow: auto;}#sk-container-id-1 input.sk-toggleable__control:checked~label.sk-toggleable__label-arrow:before {content: \"▾\";}#sk-container-id-1 div.sk-estimator input.sk-toggleable__control:checked~label.sk-toggleable__label {background-color: #d4ebff;}#sk-container-id-1 div.sk-label input.sk-toggleable__control:checked~label.sk-toggleable__label {background-color: #d4ebff;}#sk-container-id-1 input.sk-hidden--visually {border: 0;clip: rect(1px 1px 1px 1px);clip: rect(1px, 1px, 1px, 1px);height: 1px;margin: -1px;overflow: hidden;padding: 0;position: absolute;width: 1px;}#sk-container-id-1 div.sk-estimator {font-family: monospace;background-color: #f0f8ff;border: 1px dotted black;border-radius: 0.25em;box-sizing: border-box;margin-bottom: 0.5em;}#sk-container-id-1 div.sk-estimator:hover {background-color: #d4ebff;}#sk-container-id-1 div.sk-parallel-item::after {content: \"\";width: 100%;border-bottom: 1px solid gray;flex-grow: 1;}#sk-container-id-1 div.sk-label:hover label.sk-toggleable__label {background-color: #d4ebff;}#sk-container-id-1 div.sk-serial::before {content: \"\";position: absolute;border-left: 1px solid gray;box-sizing: border-box;top: 0;bottom: 0;left: 50%;z-index: 0;}#sk-container-id-1 div.sk-serial {display: flex;flex-direction: column;align-items: center;background-color: white;padding-right: 0.2em;padding-left: 0.2em;position: relative;}#sk-container-id-1 div.sk-item {position: relative;z-index: 1;}#sk-container-id-1 div.sk-parallel {display: flex;align-items: stretch;justify-content: center;background-color: white;position: relative;}#sk-container-id-1 div.sk-item::before, #sk-container-id-1 div.sk-parallel-item::before {content: \"\";position: absolute;border-left: 1px solid gray;box-sizing: border-box;top: 0;bottom: 0;left: 50%;z-index: -1;}#sk-container-id-1 div.sk-parallel-item {display: flex;flex-direction: column;z-index: 1;position: relative;background-color: white;}#sk-container-id-1 div.sk-parallel-item:first-child::after {align-self: flex-end;width: 50%;}#sk-container-id-1 div.sk-parallel-item:last-child::after {align-self: flex-start;width: 50%;}#sk-container-id-1 div.sk-parallel-item:only-child::after {width: 0;}#sk-container-id-1 div.sk-dashed-wrapped {border: 1px dashed gray;margin: 0 0.4em 0.5em 0.4em;box-sizing: border-box;padding-bottom: 0.4em;background-color: white;}#sk-container-id-1 div.sk-label label {font-family: monospace;font-weight: bold;display: inline-block;line-height: 1.2em;}#sk-container-id-1 div.sk-label-container {text-align: center;}#sk-container-id-1 div.sk-container {/* jupyter's `normalize.less` sets `[hidden] { display: none; }` but bootstrap.min.css set `[hidden] { display: none !important; }` so we also need the `!important` here to be able to override the default hidden behavior on the sphinx rendered scikit-learn.org. See: https://github.com/scikit-learn/scikit-learn/issues/21755 */display: inline-block !important;position: relative;}#sk-container-id-1 div.sk-text-repr-fallback {display: none;}</style><div id=\"sk-container-id-1\" class=\"sk-top-container\"><div class=\"sk-text-repr-fallback\"><pre>GaussianMixture(covariance_type=&#x27;diag&#x27;, max_iter=200, n_components=6, n_init=3)</pre><b>In a Jupyter environment, please rerun this cell to show the HTML representation or trust the notebook. <br />On GitHub, the HTML representation is unable to render, please try loading this page with nbviewer.org.</b></div><div class=\"sk-container\" hidden><div class=\"sk-item\"><div class=\"sk-estimator sk-toggleable\"><input class=\"sk-toggleable__control sk-hidden--visually\" id=\"sk-estimator-id-1\" type=\"checkbox\" checked><label for=\"sk-estimator-id-1\" class=\"sk-toggleable__label sk-toggleable__label-arrow\">GaussianMixture</label><div class=\"sk-toggleable__content\"><pre>GaussianMixture(covariance_type=&#x27;diag&#x27;, max_iter=200, n_components=6, n_init=3)</pre></div></div></div></div></div>"
      ],
      "text/plain": [
       "GaussianMixture(covariance_type='diag', max_iter=200, n_components=6, n_init=3)"
      ]
     },
     "execution_count": 4,
     "metadata": {},
     "output_type": "execute_result"
    }
   ],
   "source": [
    "Open_gmm = GaussianMixture(n_components=  6, max_iter = 200, covariance_type='diag',n_init =3)\n",
    "Open_gmm.fit(featuresOpen)\n",
    "\n",
    "Close_gmm = GaussianMixture(n_components= 6, max_iter = 200, covariance_type='diag',n_init =3)\n",
    "Close_gmm.fit(featuresClose)\n",
    "\n",
    "Push_gmm = GaussianMixture(n_components= 6, max_iter = 200, covariance_type='diag',n_init =3)\n",
    "Push_gmm.fit(featuresPush)\n",
    "\n",
    "Pull_gmm = GaussianMixture(n_components= 6, max_iter = 200, covariance_type='diag',n_init =3)\n",
    "Pull_gmm.fit(featuresPull)"
   ]
  },
  {
   "cell_type": "code",
   "execution_count": 5,
   "metadata": {},
   "outputs": [],
   "source": [
    "pickle.dump(Open_gmm,open('Open.gmm','wb'))\n",
    "pickle.dump(Close_gmm,open('Close.gmm','wb'))\n",
    "pickle.dump(Push_gmm,open('Push.gmm','wb'))\n",
    "pickle.dump(Pull_gmm,open('Pull.gmm','wb'))"
   ]
  },
  {
   "cell_type": "code",
   "execution_count": 6,
   "metadata": {},
   "outputs": [],
   "source": [
    "lstFolders1 = ['Open', 'Close', 'Push','Pull']\n",
    "models = [joblib.load(f + '.gmm') for f in lstFolders1]"
   ]
  },
  {
   "cell_type": "code",
   "execution_count": 7,
   "metadata": {},
   "outputs": [
    {
     "data": {
      "text/plain": [
       "[GaussianMixture(covariance_type='diag', max_iter=200, n_components=6, n_init=3),\n",
       " GaussianMixture(covariance_type='diag', max_iter=200, n_components=6, n_init=3),\n",
       " GaussianMixture(covariance_type='diag', max_iter=200, n_components=6, n_init=3),\n",
       " GaussianMixture(covariance_type='diag', max_iter=200, n_components=6, n_init=3)]"
      ]
     },
     "execution_count": 7,
     "metadata": {},
     "output_type": "execute_result"
    }
   ],
   "source": [
    "models"
   ]
  },
  {
   "cell_type": "code",
   "execution_count": 8,
   "metadata": {},
   "outputs": [],
   "source": [
    "y1 = []\n",
    "y1_true = []\n",
    "lstFolders1 = ['Open', 'Close', 'Push','Pull']\n",
    "for folder in lstFolders1:\n",
    "    # try:\n",
    "        lstFiles = glob.glob('./{}/*'.format(folder))\n",
    "        for f in lstFiles:\n",
    "            sr,audio = read(audio_path)\n",
    "            vstack = extract_features_for_data(audio, sr)\n",
    "            output = []\n",
    "            for model in models:\n",
    "                scores = np.array(model.score(vstack))\n",
    "                output.append(scores.sum())\n",
    "\n",
    "            winner1 = np.argmax(output)\n",
    "            y1_true.append(winner1)\n",
    "            y1.append(lstFolders1.index(folder))\n",
    "    "
   ]
  },
  {
   "cell_type": "code",
   "execution_count": 9,
   "metadata": {},
   "outputs": [
    {
     "data": {
      "text/plain": [
       "0.25"
      ]
     },
     "execution_count": 9,
     "metadata": {},
     "output_type": "execute_result"
    }
   ],
   "source": [
    "f1_score(y1, y1_true, average='micro')"
   ]
  },
  {
   "cell_type": "code",
   "execution_count": 10,
   "metadata": {},
   "outputs": [
    {
     "name": "stdout",
     "output_type": "stream",
     "text": [
      "-17.57812744493198\n",
      "-20.812400702056475\n",
      "-21.322272808478168\n",
      "-21.202818955772017\n"
     ]
    }
   ],
   "source": [
    "sr,audio = read('./Open/Open(5).wav')\n",
    "test2 = extract_features_for_data(audio, sr)\n",
    "sr,audio = read('./Close/Close(5).wav')\n",
    "test3= extract_features_for_data(audio, sr)\n",
    "sr,audio = read('./Push/Push(5).wav')\n",
    "test4 = extract_features_for_data(audio, sr)\n",
    "sr,audio = read('./Pull/Pull(5).wav')\n",
    "test5 = extract_features_for_data(audio, sr)\n",
    "\n",
    "scores_1 = np.array(Open_gmm.score(test2))\n",
    "scores_2 = np.array(Close_gmm.score(test3))\n",
    "scores_3 = np.array(Push_gmm.score(test4))\n",
    "scores_4 = np.array(Push_gmm.score(test5))\n",
    "\n",
    "print(scores_1)\n",
    "print(scores_2)\n",
    "print(scores_3)\n",
    "print(scores_4)"
   ]
  }
 ],
 "metadata": {
  "kernelspec": {
   "display_name": "Python 3",
   "language": "python",
   "name": "python3"
  },
  "language_info": {
   "codemirror_mode": {
    "name": "ipython",
    "version": 3
   },
   "file_extension": ".py",
   "mimetype": "text/x-python",
   "name": "python",
   "nbconvert_exporter": "python",
   "pygments_lexer": "ipython3",
   "version": "3.10.4"
  },
  "orig_nbformat": 4,
  "vscode": {
   "interpreter": {
    "hash": "b461e0d9c579d36f6282f24593a0e987bbede545240329c976e1957dd6c52afb"
   }
  }
 },
 "nbformat": 4,
 "nbformat_minor": 2
}
